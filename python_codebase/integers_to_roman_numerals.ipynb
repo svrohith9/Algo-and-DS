{
  "nbformat": 4,
  "nbformat_minor": 0,
  "metadata": {
    "colab": {
      "name": "integers-to-roman-numerals.ipynb",
      "provenance": [],
      "collapsed_sections": [],
      "authorship_tag": "ABX9TyPnOj+VSK4Swq0ynkUannZp",
      "include_colab_link": true
    },
    "kernelspec": {
      "name": "python3",
      "display_name": "Python 3"
    }
  },
  "cells": [
    {
      "cell_type": "markdown",
      "metadata": {
        "id": "view-in-github",
        "colab_type": "text"
      },
      "source": [
        "<a href=\"https://colab.research.google.com/github/svrohith9/Algo-and-DS/blob/master/integers_to_roman_numerals.ipynb\" target=\"_parent\"><img src=\"https://colab.research.google.com/assets/colab-badge.svg\" alt=\"Open In Colab\"/></a>"
      ]
    },
    {
      "cell_type": "code",
      "metadata": {
        "id": "XYbRyuzkGUEB"
      },
      "source": [
        "#convert Integers to Roman Numerals, Currently limiting to 1000\r\n",
        "# 100 - > C\r\n",
        "# 50 -> L\r\n",
        "# 10 -> X\r\n",
        "# 101 -> CI\r\n",
        "# 111 -> CXI\r\n",
        "# 195 -> CXCV"
      ],
      "execution_count": 105,
      "outputs": []
    },
    {
      "cell_type": "code",
      "metadata": {
        "colab": {
          "base_uri": "https://localhost:8080/"
        },
        "id": "dkMPpHm_JKEf",
        "outputId": "ba36b0d2-6dfb-4cf2-f94a-cd8f0e3a03fe"
      },
      "source": [
        "#Enter a,b value to print roman numerals from a to b\r\n",
        "a = int(input(\"Enter lower limit :\"))\r\n",
        "b = int(input(\"Enter Upper limit :\"))\r\n",
        "integerToRomanNumeral(a, b)"
      ],
      "execution_count": 108,
      "outputs": [
        {
          "output_type": "stream",
          "text": [
            "Enter lower limit :44\n",
            "Enter Upper limit :66\n",
            "44 -> XLIV\n",
            "45 -> XLV\n",
            "46 -> XLVI\n",
            "47 -> XLVII\n",
            "48 -> XLVIII\n",
            "49 -> XLIX\n",
            "50 -> L\n",
            "51 -> LI\n",
            "52 -> LII\n",
            "53 -> LIII\n",
            "54 -> LIV\n",
            "55 -> LV\n",
            "56 -> LVI\n",
            "57 -> LVII\n",
            "58 -> LVIII\n",
            "59 -> LIX\n",
            "60 -> LX\n",
            "61 -> LXI\n",
            "62 -> LXII\n",
            "63 -> LXIII\n",
            "64 -> LXIV\n",
            "65 -> LXV\n",
            "66 -> LXVI\n"
          ],
          "name": "stdout"
        }
      ]
    },
    {
      "cell_type": "code",
      "metadata": {
        "id": "BFwm0UoJKiK5"
      },
      "source": [
        "#dict to define all the possible edge conditions\r\n",
        "dic = {1000:\"M\", 900:\"CM\", 500:\"D\", 400:\"CD\", 100:\"C\", 90:\"XC\", 50:\"L\", 40:\"XL\", 10:\"X\", 9:\"IX\", 5:\"V\", 4:\"IV\", 1:\"I\"}\r\n",
        "\r\n",
        "#passing a to b numbers\r\n",
        "def integerToRomanNumeral(a, b):\r\n",
        "  for i in range(a,b+1):\r\n",
        "    print(i, \"->\", calculateRomanNum(i))\r\n",
        "\r\n",
        "#Integer to roman logic\r\n",
        "def calculateRomanNum(x):\r\n",
        "  str=\"\"\r\n",
        "  count = 0\r\n",
        "  while x > 0:\r\n",
        "    for key in dic:\r\n",
        "      if(x>=key):\r\n",
        "        count = int(x / key)\r\n",
        "        str = str + dic[key] * count\r\n",
        "        x = int(x % key)\r\n",
        "  return str"
      ],
      "execution_count": 107,
      "outputs": []
    }
  ]
}